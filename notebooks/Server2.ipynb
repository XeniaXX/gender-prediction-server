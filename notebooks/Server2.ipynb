{
 "cells": [
  {
   "cell_type": "markdown",
   "metadata": {},
   "source": [
    "## Сервис доступа к данным\n",
    "\n",
    "1. Написать слой доступа к данным на базе библиотеки SQLAlchemy\n",
    "2. Реализовать REST сервис, возвращающий количество просмотров в каждой категории `category` в рамках сессии `session_id`. В зависимости от параметра, возвращать нужно либо относительное количество в процентах от общего, либо абсолютные величины"
   ]
  },
  {
   "cell_type": "markdown",
   "metadata": {},
   "source": [
    "### Код SQL для формирования таблицы с количеством запросов в каждой категории\n",
    "SELECT a.session_id, cat_A, cat_B, cat_C, cat_D, gender FROM\n",
    "(SELECT  session_id\n",
    ",COUNT(distinct category_a) AS cat_A\n",
    ",COUNT(distinct category_b) AS cat_B\n",
    ",COUNT(distinct category_c) AS cat_C\n",
    ",COUNT(distinct category_d) AS cat_D\n",
    "FROM ftp.product\n",
    "GROUP BY session_id) a\n",
    "JOIN ftp.session ON a.session_id=session.session_id"
   ]
  },
  {
   "cell_type": "code",
   "execution_count": 1,
   "metadata": {},
   "outputs": [],
   "source": [
    "import pandas as pd\n",
    "import numpy as np"
   ]
  },
  {
   "cell_type": "code",
   "execution_count": 2,
   "metadata": {},
   "outputs": [],
   "source": [
    "data=pd.read_csv(\"/Users/Xenia/Downloads/views_by_cat\")"
   ]
  },
  {
   "cell_type": "code",
   "execution_count": 3,
   "metadata": {},
   "outputs": [
    {
     "data": {
      "text/html": [
       "<div>\n",
       "<style scoped>\n",
       "    .dataframe tbody tr th:only-of-type {\n",
       "        vertical-align: middle;\n",
       "    }\n",
       "\n",
       "    .dataframe tbody tr th {\n",
       "        vertical-align: top;\n",
       "    }\n",
       "\n",
       "    .dataframe thead th {\n",
       "        text-align: right;\n",
       "    }\n",
       "</style>\n",
       "<table border=\"1\" class=\"dataframe\">\n",
       "  <thead>\n",
       "    <tr style=\"text-align: right;\">\n",
       "      <th></th>\n",
       "      <th>session_id</th>\n",
       "      <th>cat_A</th>\n",
       "      <th>cat_B</th>\n",
       "      <th>cat_C</th>\n",
       "      <th>cat_D</th>\n",
       "      <th>gender</th>\n",
       "    </tr>\n",
       "  </thead>\n",
       "  <tbody>\n",
       "    <tr>\n",
       "      <th>0</th>\n",
       "      <td>u10001</td>\n",
       "      <td>1</td>\n",
       "      <td>1</td>\n",
       "      <td>1</td>\n",
       "      <td>1</td>\n",
       "      <td>female</td>\n",
       "    </tr>\n",
       "    <tr>\n",
       "      <th>1</th>\n",
       "      <td>u10002</td>\n",
       "      <td>1</td>\n",
       "      <td>1</td>\n",
       "      <td>1</td>\n",
       "      <td>1</td>\n",
       "      <td>female</td>\n",
       "    </tr>\n",
       "    <tr>\n",
       "      <th>2</th>\n",
       "      <td>u10003</td>\n",
       "      <td>1</td>\n",
       "      <td>1</td>\n",
       "      <td>6</td>\n",
       "      <td>12</td>\n",
       "      <td>female</td>\n",
       "    </tr>\n",
       "    <tr>\n",
       "      <th>3</th>\n",
       "      <td>u10004</td>\n",
       "      <td>1</td>\n",
       "      <td>1</td>\n",
       "      <td>1</td>\n",
       "      <td>1</td>\n",
       "      <td>female</td>\n",
       "    </tr>\n",
       "    <tr>\n",
       "      <th>4</th>\n",
       "      <td>u10005</td>\n",
       "      <td>1</td>\n",
       "      <td>1</td>\n",
       "      <td>2</td>\n",
       "      <td>3</td>\n",
       "      <td>female</td>\n",
       "    </tr>\n",
       "  </tbody>\n",
       "</table>\n",
       "</div>"
      ],
      "text/plain": [
       "  session_id  cat_A  cat_B  cat_C  cat_D  gender\n",
       "0     u10001      1      1      1      1  female\n",
       "1     u10002      1      1      1      1  female\n",
       "2     u10003      1      1      6     12  female\n",
       "3     u10004      1      1      1      1  female\n",
       "4     u10005      1      1      2      3  female"
      ]
     },
     "execution_count": 3,
     "metadata": {},
     "output_type": "execute_result"
    }
   ],
   "source": [
    "data.head()"
   ]
  },
  {
   "cell_type": "code",
   "execution_count": 4,
   "metadata": {},
   "outputs": [
    {
     "name": "stdout",
     "output_type": "stream",
     "text": [
      "Enter session_idu25001\n"
     ]
    }
   ],
   "source": [
    "## id = 'u25001'\n",
    "id=input('Enter session_id ')"
   ]
  },
  {
   "cell_type": "code",
   "execution_count": 8,
   "metadata": {},
   "outputs": [
    {
     "name": "stdout",
     "output_type": "stream",
     "text": [
      "Value for parameter 1\n"
     ]
    }
   ],
   "source": [
    "p=input('Value for parameter ')\n",
    "p=int(p)"
   ]
  },
  {
   "cell_type": "code",
   "execution_count": 9,
   "metadata": {},
   "outputs": [],
   "source": [
    "def function1(id, p):\n",
    "    dd=data[data.session_id==id][['cat_A','cat_B','cat_C','cat_D']]\n",
    "    if p == 1 :\n",
    "        d=dd.values\n",
    "        print('Views in category A',d[0,0])\n",
    "        print('Views in category B',d[0,1])\n",
    "        print('Views in category C',d[0,2])\n",
    "        print('Views in category D',d[0,3])\n",
    "    elif p == 2:\n",
    "        d=dd.values\n",
    "        s=sum(dd.values[0,:])\n",
    "        print('Views in category A',d[0,0]/s*100,'%')\n",
    "        print('Views in category B',d[0,1]/s*100,'%')\n",
    "        print('Views in category C',d[0,2]/s*100,'%')\n",
    "        print('Views in category D',d[0,3]/s*100,'%')\n",
    "    else:\n",
    "        print('Wrong value for parameter')"
   ]
  },
  {
   "cell_type": "code",
   "execution_count": 10,
   "metadata": {},
   "outputs": [
    {
     "name": "stdout",
     "output_type": "stream",
     "text": [
      "Views in category A 1\n",
      "Views in category B 2\n",
      "Views in category C 3\n",
      "Views in category D 3\n"
     ]
    }
   ],
   "source": [
    "function1(id, p)"
   ]
  },
  {
   "cell_type": "code",
   "execution_count": 11,
   "metadata": {},
   "outputs": [
    {
     "name": "stdout",
     "output_type": "stream",
     "text": [
      "Views in category A 11.11111111111111 %\n",
      "Views in category B 22.22222222222222 %\n",
      "Views in category C 33.33333333333333 %\n",
      "Views in category D 33.33333333333333 %\n"
     ]
    }
   ],
   "source": [
    "function1(id, 2)"
   ]
  },
  {
   "cell_type": "code",
   "execution_count": 12,
   "metadata": {},
   "outputs": [
    {
     "name": "stdout",
     "output_type": "stream",
     "text": [
      "Wrong value for parameter\n"
     ]
    }
   ],
   "source": [
    "function1(id, 3)"
   ]
  }
 ],
 "metadata": {
  "kernelspec": {
   "display_name": "Python 3",
   "language": "python",
   "name": "python3"
  },
  "language_info": {
   "codemirror_mode": {
    "name": "ipython",
    "version": 3
   },
   "file_extension": ".py",
   "mimetype": "text/x-python",
   "name": "python",
   "nbconvert_exporter": "python",
   "pygments_lexer": "ipython3",
   "version": "3.7.6"
  }
 },
 "nbformat": 4,
 "nbformat_minor": 4
}
